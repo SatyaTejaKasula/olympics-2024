{
 "cells": [
  {
   "cell_type": "code",
   "execution_count": 5,
   "metadata": {},
   "outputs": [
    {
     "name": "stdout",
     "output_type": "stream",
     "text": [
      "Defaulting to user installation because normal site-packages is not writeable\n",
      "Requirement already satisfied: pandas in /Users/satyatejakasula/Library/Python/3.9/lib/python/site-packages (2.2.2)\n",
      "Requirement already satisfied: numpy>=1.22.4 in /Users/satyatejakasula/Library/Python/3.9/lib/python/site-packages (from pandas) (2.0.1)\n",
      "Requirement already satisfied: python-dateutil>=2.8.2 in /Users/satyatejakasula/Library/Python/3.9/lib/python/site-packages (from pandas) (2.9.0.post0)\n",
      "Requirement already satisfied: pytz>=2020.1 in /Users/satyatejakasula/Library/Python/3.9/lib/python/site-packages (from pandas) (2024.1)\n",
      "Requirement already satisfied: tzdata>=2022.7 in /Users/satyatejakasula/Library/Python/3.9/lib/python/site-packages (from pandas) (2024.1)\n",
      "Requirement already satisfied: six>=1.5 in /Library/Developer/CommandLineTools/Library/Frameworks/Python3.framework/Versions/3.9/lib/python3.9/site-packages (from python-dateutil>=2.8.2->pandas) (1.15.0)\n",
      "\u001b[33mWARNING: You are using pip version 21.2.4; however, version 24.2 is available.\n",
      "You should consider upgrading via the '/Library/Developer/CommandLineTools/usr/bin/python3 -m pip install --upgrade pip' command.\u001b[0m\n",
      "Note: you may need to restart the kernel to use updated packages.\n",
      "Defaulting to user installation because normal site-packages is not writeable\n",
      "Requirement already satisfied: zipfile36 in /Users/satyatejakasula/Library/Python/3.9/lib/python/site-packages (0.1.3)\n",
      "\u001b[33mWARNING: You are using pip version 21.2.4; however, version 24.2 is available.\n",
      "You should consider upgrading via the '/Library/Developer/CommandLineTools/usr/bin/python3 -m pip install --upgrade pip' command.\u001b[0m\n",
      "Note: you may need to restart the kernel to use updated packages.\n",
      "Defaulting to user installation because normal site-packages is not writeable\n",
      "Requirement already satisfied: opendatasets in /Users/satyatejakasula/Library/Python/3.9/lib/python/site-packages (0.1.22)\n",
      "Requirement already satisfied: kaggle in /Users/satyatejakasula/Library/Python/3.9/lib/python/site-packages (from opendatasets) (1.6.17)\n",
      "Requirement already satisfied: tqdm in /Users/satyatejakasula/Library/Python/3.9/lib/python/site-packages (from opendatasets) (4.66.5)\n",
      "Requirement already satisfied: click in /Users/satyatejakasula/Library/Python/3.9/lib/python/site-packages (from opendatasets) (8.1.7)\n",
      "Requirement already satisfied: urllib3 in /Users/satyatejakasula/Library/Python/3.9/lib/python/site-packages (from kaggle->opendatasets) (2.2.2)\n",
      "Requirement already satisfied: six>=1.10 in /Library/Developer/CommandLineTools/Library/Frameworks/Python3.framework/Versions/3.9/lib/python3.9/site-packages (from kaggle->opendatasets) (1.15.0)\n",
      "Requirement already satisfied: requests in /Users/satyatejakasula/Library/Python/3.9/lib/python/site-packages (from kaggle->opendatasets) (2.32.3)\n",
      "Requirement already satisfied: python-dateutil in /Users/satyatejakasula/Library/Python/3.9/lib/python/site-packages (from kaggle->opendatasets) (2.9.0.post0)\n",
      "Requirement already satisfied: certifi>=2023.7.22 in /Users/satyatejakasula/Library/Python/3.9/lib/python/site-packages (from kaggle->opendatasets) (2024.7.4)\n",
      "Requirement already satisfied: python-slugify in /Users/satyatejakasula/Library/Python/3.9/lib/python/site-packages (from kaggle->opendatasets) (8.0.4)\n",
      "Requirement already satisfied: bleach in /Users/satyatejakasula/Library/Python/3.9/lib/python/site-packages (from kaggle->opendatasets) (6.1.0)\n",
      "Requirement already satisfied: webencodings in /Users/satyatejakasula/Library/Python/3.9/lib/python/site-packages (from bleach->kaggle->opendatasets) (0.5.1)\n",
      "Requirement already satisfied: text-unidecode>=1.3 in /Users/satyatejakasula/Library/Python/3.9/lib/python/site-packages (from python-slugify->kaggle->opendatasets) (1.3)\n",
      "Requirement already satisfied: idna<4,>=2.5 in /Users/satyatejakasula/Library/Python/3.9/lib/python/site-packages (from requests->kaggle->opendatasets) (3.7)\n",
      "Requirement already satisfied: charset-normalizer<4,>=2 in /Users/satyatejakasula/Library/Python/3.9/lib/python/site-packages (from requests->kaggle->opendatasets) (3.3.2)\n",
      "\u001b[33mWARNING: You are using pip version 21.2.4; however, version 24.2 is available.\n",
      "You should consider upgrading via the '/Library/Developer/CommandLineTools/usr/bin/python3 -m pip install --upgrade pip' command.\u001b[0m\n",
      "Note: you may need to restart the kernel to use updated packages.\n",
      "Defaulting to user installation because normal site-packages is not writeable\n",
      "Requirement already satisfied: kaggle in /Users/satyatejakasula/Library/Python/3.9/lib/python/site-packages (1.6.17)\n",
      "Requirement already satisfied: tqdm in /Users/satyatejakasula/Library/Python/3.9/lib/python/site-packages (from kaggle) (4.66.5)\n",
      "Requirement already satisfied: bleach in /Users/satyatejakasula/Library/Python/3.9/lib/python/site-packages (from kaggle) (6.1.0)\n",
      "Requirement already satisfied: certifi>=2023.7.22 in /Users/satyatejakasula/Library/Python/3.9/lib/python/site-packages (from kaggle) (2024.7.4)\n",
      "Requirement already satisfied: six>=1.10 in /Library/Developer/CommandLineTools/Library/Frameworks/Python3.framework/Versions/3.9/lib/python3.9/site-packages (from kaggle) (1.15.0)\n",
      "Requirement already satisfied: urllib3 in /Users/satyatejakasula/Library/Python/3.9/lib/python/site-packages (from kaggle) (2.2.2)\n",
      "Requirement already satisfied: python-slugify in /Users/satyatejakasula/Library/Python/3.9/lib/python/site-packages (from kaggle) (8.0.4)\n",
      "Requirement already satisfied: requests in /Users/satyatejakasula/Library/Python/3.9/lib/python/site-packages (from kaggle) (2.32.3)\n",
      "Requirement already satisfied: python-dateutil in /Users/satyatejakasula/Library/Python/3.9/lib/python/site-packages (from kaggle) (2.9.0.post0)\n",
      "Requirement already satisfied: webencodings in /Users/satyatejakasula/Library/Python/3.9/lib/python/site-packages (from bleach->kaggle) (0.5.1)\n",
      "Requirement already satisfied: text-unidecode>=1.3 in /Users/satyatejakasula/Library/Python/3.9/lib/python/site-packages (from python-slugify->kaggle) (1.3)\n",
      "Requirement already satisfied: idna<4,>=2.5 in /Users/satyatejakasula/Library/Python/3.9/lib/python/site-packages (from requests->kaggle) (3.7)\n",
      "Requirement already satisfied: charset-normalizer<4,>=2 in /Users/satyatejakasula/Library/Python/3.9/lib/python/site-packages (from requests->kaggle) (3.3.2)\n",
      "\u001b[33mWARNING: You are using pip version 21.2.4; however, version 24.2 is available.\n",
      "You should consider upgrading via the '/Library/Developer/CommandLineTools/usr/bin/python3 -m pip install --upgrade pip' command.\u001b[0m\n",
      "Note: you may need to restart the kernel to use updated packages.\n",
      "Defaulting to user installation because normal site-packages is not writeable\n",
      "Requirement already satisfied: pandas in /Users/satyatejakasula/Library/Python/3.9/lib/python/site-packages (2.2.2)\n",
      "Requirement already satisfied: openpyxl in /Users/satyatejakasula/Library/Python/3.9/lib/python/site-packages (3.1.5)\n",
      "Requirement already satisfied: xlrd in /Users/satyatejakasula/Library/Python/3.9/lib/python/site-packages (2.0.1)\n",
      "Requirement already satisfied: xlwt in /Users/satyatejakasula/Library/Python/3.9/lib/python/site-packages (1.3.0)\n",
      "Requirement already satisfied: pytz>=2020.1 in /Users/satyatejakasula/Library/Python/3.9/lib/python/site-packages (from pandas) (2024.1)\n",
      "Requirement already satisfied: numpy>=1.22.4 in /Users/satyatejakasula/Library/Python/3.9/lib/python/site-packages (from pandas) (2.0.1)\n",
      "Requirement already satisfied: tzdata>=2022.7 in /Users/satyatejakasula/Library/Python/3.9/lib/python/site-packages (from pandas) (2024.1)\n",
      "Requirement already satisfied: python-dateutil>=2.8.2 in /Users/satyatejakasula/Library/Python/3.9/lib/python/site-packages (from pandas) (2.9.0.post0)\n",
      "Requirement already satisfied: et-xmlfile in /Users/satyatejakasula/Library/Python/3.9/lib/python/site-packages (from openpyxl) (1.1.0)\n",
      "Requirement already satisfied: six>=1.5 in /Library/Developer/CommandLineTools/Library/Frameworks/Python3.framework/Versions/3.9/lib/python3.9/site-packages (from python-dateutil>=2.8.2->pandas) (1.15.0)\n",
      "\u001b[33mWARNING: You are using pip version 21.2.4; however, version 24.2 is available.\n",
      "You should consider upgrading via the '/Library/Developer/CommandLineTools/usr/bin/python3 -m pip install --upgrade pip' command.\u001b[0m\n",
      "Note: you may need to restart the kernel to use updated packages.\n"
     ]
    }
   ],
   "source": [
    "%pip install pandas\n",
    "%pip install zipfile36\n",
    "%pip install opendatasets\n",
    "%pip install kaggle\n",
    "%pip install pandas openpyxl xlrd xlwt\n"
   ]
  },
  {
   "cell_type": "code",
   "execution_count": 10,
   "metadata": {},
   "outputs": [
    {
     "name": "stdout",
     "output_type": "stream",
     "text": [
      "Please provide your Kaggle credentials to download this dataset. Learn more: http://bit.ly/kaggle-creds\n",
      "Your Kaggle username:Your Kaggle Key:Dataset URL: https://www.kaggle.com/datasets/piterfm/paris-2024-olympic-summer-games\n",
      "Downloading paris-2024-olympic-summer-games.zip to ./paris-2024-olympic-summer-games\n"
     ]
    },
    {
     "name": "stderr",
     "output_type": "stream",
     "text": [
      "100%|██████████| 2.95M/2.95M [00:00<00:00, 21.2MB/s]"
     ]
    },
    {
     "name": "stdout",
     "output_type": "stream",
     "text": [
      "\n"
     ]
    },
    {
     "name": "stderr",
     "output_type": "stream",
     "text": [
      "\n"
     ]
    }
   ],
   "source": [
    "import pandas as pd\n",
    "import zipfile\n",
    "import opendatasets as od \n",
    "od.download(\"https://www.kaggle.com/datasets/piterfm/paris-2024-olympic-summer-games/code\")\n"
   ]
  },
  {
   "cell_type": "code",
   "execution_count": 11,
   "metadata": {},
   "outputs": [],
   "source": [
    "zipfile_name = '/Users/satyatejakasula/paris-2024-olympic-summer-games.zip'\n",
    "with zipfile.ZipFile(zipfile_name, 'r') as file:\n",
    "    file.extractall()\n"
   ]
  },
  {
   "cell_type": "code",
   "execution_count": 23,
   "metadata": {},
   "outputs": [],
   "source": [
    "medallists = pd.read_csv(\"medallists.csv\")\n"
   ]
  },
  {
   "cell_type": "code",
   "execution_count": 24,
   "metadata": {},
   "outputs": [
    {
     "name": "stdout",
     "output_type": "stream",
     "text": [
      "<class 'pandas.core.frame.DataFrame'>\n",
      "RangeIndex: 2315 entries, 0 to 2314\n",
      "Data columns (total 21 columns):\n",
      " #   Column            Non-Null Count  Dtype  \n",
      "---  ------            --------------  -----  \n",
      " 0   medal_date        2315 non-null   object \n",
      " 1   medal_type        2315 non-null   object \n",
      " 2   medal_code        2314 non-null   float64\n",
      " 3   name              2315 non-null   object \n",
      " 4   gender            2315 non-null   object \n",
      " 5   country_code      2315 non-null   object \n",
      " 6   country           2315 non-null   object \n",
      " 7   country_long      2315 non-null   object \n",
      " 8   nationality_code  2314 non-null   object \n",
      " 9   nationality       2314 non-null   object \n",
      " 10  nationality_long  2314 non-null   object \n",
      " 11  team              1555 non-null   object \n",
      " 12  team_gender       1555 non-null   object \n",
      " 13  discipline        2315 non-null   object \n",
      " 14  event             2315 non-null   object \n",
      " 15  event_type        2315 non-null   object \n",
      " 16  url_event         2294 non-null   object \n",
      " 17  birth_date        2315 non-null   object \n",
      " 18  code_athlete      2315 non-null   int64  \n",
      " 19  code_team         1555 non-null   object \n",
      " 20  is_medallist      2315 non-null   bool   \n",
      "dtypes: bool(1), float64(1), int64(1), object(18)\n",
      "memory usage: 364.1+ KB\n"
     ]
    }
   ],
   "source": [
    "medallists.info()\n"
   ]
  },
  {
   "cell_type": "code",
   "execution_count": 25,
   "metadata": {},
   "outputs": [
    {
     "name": "stdout",
     "output_type": "stream",
     "text": [
      "(2315, 21)\n"
     ]
    }
   ],
   "source": [
    "print(medallists.shape)\n"
   ]
  },
  {
   "cell_type": "code",
   "execution_count": 26,
   "metadata": {},
   "outputs": [
    {
     "name": "stdout",
     "output_type": "stream",
     "text": [
      "medal_date            0\n",
      "medal_type            0\n",
      "medal_code            1\n",
      "name                  0\n",
      "gender                0\n",
      "country_code          0\n",
      "country               0\n",
      "country_long          0\n",
      "nationality_code      1\n",
      "nationality           1\n",
      "nationality_long      1\n",
      "team                760\n",
      "team_gender         760\n",
      "discipline            0\n",
      "event                 0\n",
      "event_type            0\n",
      "url_event            21\n",
      "birth_date            0\n",
      "code_athlete          0\n",
      "code_team           760\n",
      "is_medallist          0\n",
      "dtype: int64\n"
     ]
    }
   ],
   "source": [
    "print(medallists.isnull().sum())\n"
   ]
  },
  {
   "cell_type": "code",
   "execution_count": 27,
   "metadata": {},
   "outputs": [],
   "source": [
    "medallists = medallists.dropna(subset=['name','gender','country','country_code','nationality','birth_date'])\n"
   ]
  },
  {
   "cell_type": "code",
   "execution_count": 28,
   "metadata": {},
   "outputs": [
    {
     "name": "stdout",
     "output_type": "stream",
     "text": [
      "medal_date            0\n",
      "medal_type            0\n",
      "medal_code            1\n",
      "name                  0\n",
      "gender                0\n",
      "country_code          0\n",
      "country               0\n",
      "country_long          0\n",
      "nationality_code      0\n",
      "nationality           0\n",
      "nationality_long      0\n",
      "team                760\n",
      "team_gender         760\n",
      "discipline            0\n",
      "event                 0\n",
      "event_type            0\n",
      "url_event            21\n",
      "birth_date            0\n",
      "code_athlete          0\n",
      "code_team           760\n",
      "is_medallist          0\n",
      "dtype: int64\n"
     ]
    }
   ],
   "source": [
    "print(medallists.isnull().sum())\n"
   ]
  },
  {
   "cell_type": "code",
   "execution_count": 29,
   "metadata": {},
   "outputs": [],
   "source": [
    "medallists.to_excel('medallists_final.xlsx', sheet_name='Data')\n"
   ]
  }
 ],
 "metadata": {
  "kernelspec": {
   "display_name": "Python 3",
   "language": "python",
   "name": "python3"
  },
  "language_info": {
   "codemirror_mode": {
    "name": "ipython",
    "version": 3
   },
   "file_extension": ".py",
   "mimetype": "text/x-python",
   "name": "python",
   "nbconvert_exporter": "python",
   "pygments_lexer": "ipython3",
   "version": "3.9.6"
  }
 },
 "nbformat": 4,
 "nbformat_minor": 2
}
